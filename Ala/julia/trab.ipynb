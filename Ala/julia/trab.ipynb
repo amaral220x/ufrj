{
 "cells": [
  {
   "cell_type": "code",
   "execution_count": 273,
   "metadata": {},
   "outputs": [],
   "source": [
    "using RowEchelon\n",
    "using LinearAlgebra\n"
   ]
  },
  {
   "cell_type": "code",
   "execution_count": 274,
   "metadata": {},
   "outputs": [
    {
     "data": {
      "text/plain": [
       "AchaRaizesDeGrau3 (generic function with 1 method)"
      ]
     },
     "metadata": {},
     "output_type": "display_data"
    }
   ],
   "source": [
    "function isapproxsigfigs(a, b, precision=3) \n",
    "    return round(a, RoundNearestTiesUp, sigdigits=precision) == round(b, RoundNearestTiesUp, sigdigits=precision)\n",
    "end\n",
    "function AchaAutoValores(A)\n",
    "\n",
    "    d = A[1,2]*A[2,3]*A[3,1] + A[1,3]*A[2,1]*A[3,2] + A[1,1]*A[2,2]*A[3,3] -A[1,2]*A[2,1]*A[3,3] - A[1,1]*A[2,3]*A[3,2] -A[1,3]*A[2,2]*A[3,1]\n",
    "\n",
    "    c = A[1,2]*A[2,1] + A[2,3]*A[3,2] + A[1,3]*A[3,1] - A[1,1]*A[2,2] - A[2,2]*A[3,3] - A[1,1]*A[3,3]\n",
    "\n",
    "    b = A[1,1] + A[2,2] + A[3,3]\n",
    "\n",
    "    a = -1\n",
    "\n",
    "    reais = AchaRaizesDeGrau3(a, b, c, d)\n",
    "    if(length(reais) == 3)\n",
    "        if(isapproxsigfigs(reais[1], reais[2]))\n",
    "            splice!(reais, 2)\n",
    "        elseif (isapproxsigfigs(reais[1], reais[3]) || isapproxsigfigs(reais[2], reais[3]))\n",
    "            splice!(reais, 3)\n",
    "        end\n",
    "    end\n",
    "\n",
    "    return reais\n",
    "end\n",
    "\n",
    "function AchaRaizesDeGrau3(a, b, c, d)\n",
    "    \n",
    "    p = (c/a) - (b^2/3*a^2)\n",
    "    q = (d/a) - (b*c/3*a^2) + (2*b^3/27*a^3)\n",
    "\n",
    "    z1 = ((-q/2) -sqrt(Complex((q^2/4)+(p^3/27))))^(1/3)\n",
    "    z2 = ((-q/2) + sqrt(Complex((q^2/4) + (p^3/27))))^(1/3)\n",
    "    \n",
    "    w1 = (-1/2) + (im*sqrt(3)/2)\n",
    "    w2 = (-1/2) - (im*sqrt(3)/2)\n",
    "    \n",
    "    x0 = (-b/3a) + z2 + z1\n",
    "    x1 = (-b/3a) + w1 * z2 + w2*z1\n",
    "    x2 = (-b/3a) + w2 * z2 + w1*z1\n",
    "    reais = []\n",
    "    \n",
    "    if(isapproxsigfigs(imag(x0), 0))\n",
    "        push!(reais, real(x0))\n",
    "    end\n",
    "    if(isapproxsigfigs(imag(x1), 0))\n",
    "        push!(reais, real(x1))\n",
    "    end\n",
    "    if(isapproxsigfigs(imag(x2), 0))\n",
    "        push!(reais, real(x2))\n",
    "    end\n",
    "    \n",
    "    return reais\n",
    "end"
   ]
  },
  {
   "cell_type": "code",
   "execution_count": 275,
   "metadata": {},
   "outputs": [
    {
     "data": {
      "text/plain": [
       "resolver (generic function with 1 method)"
      ]
     },
     "metadata": {},
     "output_type": "display_data"
    }
   ],
   "source": [
    "function resolver(M, vetor)\n",
    "    sistema = hcat(M, vetor)\n",
    "    C,pivos=rref_with_pivots(sistema)\n",
    "    if(!(1 in pivos)) \n",
    "        notPivo = 1\n",
    "        x1 = 1\n",
    "        x2 = - C[2, 1]\n",
    "        x3 = - C[3, 1]\n",
    "\n",
    "    elseif(!(2 in pivos)) \n",
    "        notPivo = 2\n",
    "        x1 = - C[1, 2]\n",
    "        x2 = 1\n",
    "        x3 = - C[3, 2]\n",
    "    else\n",
    "        notPivo = 3\n",
    "        x1 = - C[1, 3]\n",
    "        x2 = - C[2, 3]\n",
    "        x3 = 1\n",
    "    end\n",
    "\n",
    "    solucao = Vector([x1, x2, x3])\n",
    "    return solucao\n",
    "end\n"
   ]
  },
  {
   "cell_type": "code",
   "execution_count": 276,
   "metadata": {},
   "outputs": [],
   "source": [
    "struct AutoCoisa\n",
    "    autovetor :: Vector\n",
    "    autovalor :: Real\n",
    "end"
   ]
  },
  {
   "cell_type": "code",
   "execution_count": 277,
   "metadata": {},
   "outputs": [
    {
     "data": {
      "text/plain": [
       "AchaAutoVetores (generic function with 2 methods)"
      ]
     },
     "metadata": {},
     "output_type": "display_data"
    }
   ],
   "source": [
    "function AchaAutoVetores(A, autovalores)\n",
    "    autovetores = [AutoCoisa(resolver(A - a * I, zeros(3, 1)), a) for a in autovalores]\n",
    "    return autovetores\n",
    "end\n",
    "function AchaAutoVetores(A)\n",
    "    autovalores = AchaAutoValores(A)\n",
    "    return AchaAutoVetores(A, autovalores)\n",
    "end"
   ]
  },
  {
   "cell_type": "code",
   "execution_count": 283,
   "metadata": {},
   "outputs": [
    {
     "data": {
      "text/plain": [
       "3-element Vector{Float64}:\n",
       "  0.6666666666666667\n",
       "  1.0\n",
       " -0.0"
      ]
     },
     "metadata": {},
     "output_type": "display_data"
    }
   ],
   "source": [
    "B = [1 2 3; 0 4 5; 0 0 3]\n",
    "autovalores = AchaAutoValores(B)\n",
    "autovetores = AchaAutoVetores(B)\n",
    "display(autovetores[1].autovetor)"
   ]
  }
 ],
 "metadata": {
  "kernelspec": {
   "display_name": "Julia 1.7.2",
   "language": "julia",
   "name": "julia-1.7"
  },
  "language_info": {
   "file_extension": ".jl",
   "mimetype": "application/julia",
   "name": "julia",
   "version": "1.7.2"
  },
  "orig_nbformat": 4
 },
 "nbformat": 4,
 "nbformat_minor": 2
}
